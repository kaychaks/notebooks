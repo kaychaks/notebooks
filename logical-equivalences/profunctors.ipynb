{
 "cells": [
  {
   "cell_type": "code",
   "execution_count": 1,
   "metadata": {},
   "outputs": [],
   "source": [
    ":set -XRankNTypes\n",
    ":set -XTypeOperators\n",
    ":set -XKindSignatures\n",
    ":set -XInstanceSigs\n",
    ":set -XLambdaCase"
   ]
  },
  {
   "cell_type": "code",
   "execution_count": 2,
   "metadata": {},
   "outputs": [],
   "source": [
    "f :: a -> b\n",
    "f = undefined"
   ]
  },
  {
   "cell_type": "code",
   "execution_count": 3,
   "metadata": {},
   "outputs": [],
   "source": [
    "type P = (->)"
   ]
  },
  {
   "cell_type": "code",
   "execution_count": 4,
   "metadata": {},
   "outputs": [],
   "source": [
    "\n",
    "\n",
    "f' :: a `P` b\n",
    "f' = undefined\n",
    "\n",
    "f'' :: P a b\n",
    "f'' = undefined\n",
    "\n",
    "generateA :: i -> a\n",
    "generateA = undefined\n",
    "\n",
    "useB :: b -> o\n",
    "useB = undefined\n",
    "\n",
    "f''' :: (i -> a) -> (b -> o) -> P a b -> P i o\n",
    "f''' g u f = u . f . g\n",
    "\n",
    "class Profunctor (p :: * -> * -> *) where\n",
    "  dimap :: (i -> a) -> (b -> o) -> p a b -> p i o \n",
    "  \n",
    "instance Profunctor (->) where\n",
    "    dimap g u f = u . f . g\n",
    "\n"
   ]
  },
  {
   "cell_type": "markdown",
   "metadata": {},
   "source": [
    "So how to get a `Functor` be a `Profunctor`. For that we need a new data type that somehow talks about `Functor f`, the type contained within `f` i.e `a`, and the other type which is required for `Profunctor` i.e. `b`. Let's call it `Star` (we will get to the reason later)"
   ]
  },
  {
   "cell_type": "code",
   "execution_count": 5,
   "metadata": {},
   "outputs": [],
   "source": [
    "\n",
    "-- if you look closely, a here is in covariant position and b in contra\n",
    "newtype Star f a b = Star {runStar :: a -> f b} \n",
    "\n",
    "-- now lets lift the Functor \n",
    "instance Functor f => Profunctor (Star f) where\n",
    "    dimap :: (i -> a) -> (b -> o) -> Star f a b -> Star f i o\n",
    "    dimap f g s = Star (fmap g . runStar s . f)"
   ]
  },
  {
   "cell_type": "markdown",
   "metadata": {},
   "source": [
    "So `Star` is another `Profunctor` like `(->)`. Let's just see one more. Like `Star` which uses all three type variables `f`, `a`, and `b`, this one will take 3 but use only 2 in a way that will enable us to make a `Profunctor` out of it. Since it forgets a type in its implementation, we will call it `Forget`"
   ]
  },
  {
   "cell_type": "code",
   "execution_count": 6,
   "metadata": {},
   "outputs": [],
   "source": [
    "newtype Forget f a b = Forget {runForget :: a -> f} -- again, a here is covariant, f is contravariant, and b is forgotten\n",
    "\n",
    "-- hence for it to be a Profunctor we don't need the Functor constraint like Star\n",
    "instance Profunctor (Forget f) where\n",
    "    dimap :: (i -> a) -> (b -> o) -> Forget f a b -> Forget f i o\n",
    "    dimap f _ fo = Forget (runForget fo . f)\n"
   ]
  },
  {
   "cell_type": "markdown",
   "metadata": {},
   "source": [
    "As `functors` provide ways to map objects of a container (read a data structure), `natural transformations` provide ways to map `functors` i.e `type Natural f g = forall a. f a -> g a`. Of course, `natural transformations` need to adhere to some laws. For `profunctors`, `natural transformations` happen in couple of ways (one loose way to reason it is as profunctors deal with 2 type parameters)."
   ]
  },
  {
   "cell_type": "markdown",
   "metadata": {},
   "source": [
    "**First**, is when both type parameters are lifted to a `product` type i.e. `p a b |-> p (a, c) (b, c)` or `p a b |-> p (c, a) (c, b)`. Here, the type parameter `c` can be considered to be providing additional information as a result of the transformation. It's encoded in a type class named `Strong`."
   ]
  },
  {
   "cell_type": "code",
   "execution_count": 7,
   "metadata": {},
   "outputs": [],
   "source": [
    "class Profunctor p => Strong p where\n",
    "    first' :: p a b -> p (a, c) (b, c)\n",
    "    second' :: p a b -> p (c, a) (c, b)\n",
    "    \n",
    "-- let's lift (->) to be a Strong one\n",
    "instance Strong (->) where\n",
    "    first' f = \\(a, c) -> (f a, c)\n",
    "    second' f = \\(c, a) -> (c, f a)\n",
    "    \n",
    "-- let's lift Star to be a Strong one\n",
    "instance Functor f => Strong (Star f) where\n",
    "    first' :: Star f a b -> Star f (a, c) (b, c)\n",
    "    first' s = Star (\\(a, c) -> fmap (\\b -> (b, c)) $ runStar s a)\n",
    "    \n",
    "    second' :: Star f a b -> Star f (c, a) (c, b)\n",
    "    second' s = Star (\\(c, a) -> fmap (\\b -> (c, b)) $ runStar s a)\n",
    "    \n",
    "-- simillarly, let's lift Forget to be a Strong one\n",
    "instance Strong (Forget f) where\n",
    "    first' fo = Forget (runForget fo . fst)\n",
    "    second' fo = Forget (runForget fo . snd)"
   ]
  },
  {
   "cell_type": "markdown",
   "metadata": {},
   "source": [
    "__Second__, when both type parameters are lifted to a `sum` type i.e. `p a b -> p (Either a c) (Either b c)` or `p a b -> p (Either c a) (Either c b)`. Here the type parameter `c` can be considered to be `maybe` providing additional information. It's encoded in a type class named `Choice`"
   ]
  },
  {
   "cell_type": "code",
   "execution_count": 8,
   "metadata": {},
   "outputs": [],
   "source": [
    "\n",
    "class Profunctor p => Choice p where\n",
    "    left' :: p a b -> p (Either a c) (Either b c)\n",
    "    right' :: p a b -> p (Either c a) (Either c b)\n",
    "    \n",
    "instance Choice (->) where\n",
    "    left' f (Left a) = Left (f a)\n",
    "    left' _ (Right c) = Right c\n",
    "    \n",
    "    right' = fmap\n",
    "    \n",
    "-- we need Applicative constraint to lift Right\n",
    "instance Applicative f => Choice (Star f) where\n",
    "    left' (Star s) = Star $ either (fmap Left . s) (pure . Right)\n",
    "    \n",
    "    right' (Star s) = Star $ either (pure . Left) (fmap Right . s)\n",
    "    \n",
    "-- we need Monoid constraint to get mempty for the forgotten case\n",
    "instance Monoid fo => Choice (Forget fo) where\n",
    "    left' (Forget fo) = Forget $ either fo (const mempty)\n",
    "    \n",
    "    right' (Forget fo) = Forget $ either (const mempty) fo"
   ]
  },
  {
   "cell_type": "markdown",
   "metadata": {},
   "source": [
    "`Strong` and `Choice` above are also seen as refinements of `Profunctor` which concerns its interaction with sum and product types."
   ]
  },
  {
   "cell_type": "raw",
   "metadata": {},
   "source": [
    "There is a **third** refinement of `Profunctor`s that concerns with composition (esp. parallel composition) of individual `Profunctor`s. It's encoded in a type class named `Monoidal`. The name is such as the operations of the `Monoidal` type class satisfy laws that make them isomorphic with monoids on the value types."
   ]
  },
  {
   "cell_type": "code",
   "execution_count": 9,
   "metadata": {},
   "outputs": [],
   "source": [
    "cross :: (a -> c) -> (b -> d) -> (a , b) -> (c, d)\n",
    "cross f g (a, c) = (f a, g c)\n",
    "\n",
    "class Profunctor p => Monoidal p where\n",
    "    par :: p a b -> p c d -> p (a,c) (b,d)\n",
    "    empty :: p () ()\n",
    "    \n",
    "instance Monoidal (->) where\n",
    "    empty = id\n",
    "    par = cross\n",
    "    \n",
    "instance Applicative f => Monoidal (Star f) where\n",
    "    empty = Star pure\n",
    "    par (Star f) (Star g) = Star (\\(a,c) -> (,) <$> f a <*> g c)\n",
    "    \n",
    "instance Monoid f => Monoidal (Forget f) where\n",
    "    empty = Forget (const mempty)\n",
    "    par (Forget f) (Forget g) = Forget (\\(a,c) -> f a <> g c)"
   ]
  },
  {
   "cell_type": "markdown",
   "metadata": {},
   "source": [
    "#### Profunctor Optics"
   ]
  },
  {
   "cell_type": "code",
   "execution_count": 10,
   "metadata": {},
   "outputs": [],
   "source": [
    "type Optic p a b s t = p a b -> p s t"
   ]
  },
  {
   "cell_type": "markdown",
   "metadata": {},
   "source": [
    "Profunctor Optics : Modular Data Accessors. Matthew Pickering, Jeremy Gibbons, and Nicolas Wua\n",
    "\n",
    "> When `S` is a composite type with some component of type `A`, and `T` similarly a composite type in which that component has type `B`, and `P` is some notion of `transformer`, then we can think of a data accessor of type `Optic P A B S T` as lifting a component transformer of type `P A B` to a whole-structure transformer of type `P S T`. We will retrieve equivalents of our original definitions of lens, prism, and so on by placing various constraints on `P`"
   ]
  },
  {
   "cell_type": "markdown",
   "metadata": {},
   "source": [
    "**Adapters**\n",
    "\n",
    "Adapters are the concrete representation of optics in which the things which is viewed or matched is the whole structure. hence it just need to pair of functions i.e. one for view/match `S -> A` and one for update/build `B -> T`"
   ]
  },
  {
   "cell_type": "code",
   "execution_count": 11,
   "metadata": {},
   "outputs": [],
   "source": [
    "\n",
    "\n",
    "data Adapter a b s t = Adapter {from :: s -> a, to :: b -> t}\n",
    "-- profunctor constraint to note that polymorphically the notion of an abstracter is simply a function from `P A B` to `P S T`\n",
    "type AdapterP a b s t = forall p. Profunctor p => Optic p a b s t"
   ]
  },
  {
   "cell_type": "markdown",
   "metadata": {},
   "source": [
    "Establishing isomorphism between `Adapter` and `AdapterP`"
   ]
  },
  {
   "cell_type": "code",
   "execution_count": 12,
   "metadata": {},
   "outputs": [],
   "source": [
    "-- the type is equivalent to\n",
    "-- Profunctor p => Adapter a b s t -> p a b -> p s t\n",
    "adapterC2P :: Adapter a b s t -> AdapterP a b s t\n",
    "adapterC2P (Adapter f t) = dimap f t\n",
    "\n",
    "instance Profunctor (Adapter a b) where\n",
    "    dimap :: (i -> c) -> (d -> o) -> Adapter a b c d -> Adapter a b i o\n",
    "    dimap f g (Adapter r s) = Adapter (r . f) (g . s)\n",
    "\n",
    "-- the type is equivalent to\n",
    "-- Profunctor p q => p a b -> p s t -> Adapter a b s t\n",
    "adapterP2C :: AdapterP a b s t -> Adapter a b s t\n",
    "adapterP2C f = f (Adapter id id)"
   ]
  },
  {
   "cell_type": "markdown",
   "metadata": {},
   "source": [
    "**Lens**\n",
    "\n",
    "Lenses provide ways to\n",
    "\n",
    "- _view_ the contained type `A` inside  the container type `S` and \n",
    "- _update_ the container type `S` to a container type `T` having elements of contained type `B`\n"
   ]
  },
  {
   "cell_type": "code",
   "execution_count": 13,
   "metadata": {},
   "outputs": [],
   "source": [
    "data Lens a b s t = Lens {view :: s -> a, update :: (b, s) -> t}\n",
    "\n",
    "-- Strong profunctors produce the notion of lenses as there is product type involved here\n",
    "type LensP a b s t = forall p. Strong p => Optic p a b s t"
   ]
  },
  {
   "cell_type": "markdown",
   "metadata": {},
   "source": [
    "Establishing isomorphism between `Lens` and `LensP`"
   ]
  },
  {
   "cell_type": "code",
   "execution_count": 14,
   "metadata": {},
   "outputs": [],
   "source": [
    "lensC2P :: Lens a b s t -> LensP a b s t\n",
    "lensC2P (Lens v u) = dimap (\\s -> (v s, s)) u . first'\n",
    "\n",
    "instance Profunctor (Lens a b) where\n",
    "    dimap :: (i -> c) -> (d -> o) -> Lens a b c d -> Lens a b i o\n",
    "    dimap f g (Lens v u) = Lens (v . f) (\\(b,i) -> g $ u (b, f i))\n",
    "\n",
    "instance Strong (Lens a b) where\n",
    "    first' :: Lens a b c d -> Lens a b (c, e) (d, e)\n",
    "    first' (Lens v u) = Lens (v . fst) (\\(b, (c, e)) -> (u (b, c), e))\n",
    "    \n",
    "    second' :: Lens a b c d -> Lens a b (e, c) (e, d)\n",
    "    second' (Lens v u) = Lens (v . snd) (\\(b, (e, c)) -> (e, u (b, c)))\n",
    "\n",
    "lensP2C :: LensP a b s t -> Lens a b s t\n",
    "lensP2C f = f (Lens id fst)"
   ]
  },
  {
   "cell_type": "markdown",
   "metadata": {},
   "source": [
    "**Prisms**\n",
    "\n",
    "Prisms provide ways to\n",
    "  - _match_ the probable contained type `A` (and may be transform it to `B`) inside the compound type `S` (if no match then it reverts to `S` or may be transform to `T`) and \n",
    "  - _build_ the compound type `T` from one of the contained types `B`\n"
   ]
  },
  {
   "cell_type": "code",
   "execution_count": 15,
   "metadata": {},
   "outputs": [],
   "source": [
    "data Prism a b s t = Prism {match :: s -> Either t a, build :: b -> t}\n",
    "\n",
    "-- Choice profunctors produce the notion of prisms as there is sum type involved here\n",
    "type PrismP a b s t = forall p. Choice p => Optic p a b s t"
   ]
  },
  {
   "cell_type": "markdown",
   "metadata": {},
   "source": [
    "Establishing isomorphism between `Prism` and `PrismP`"
   ]
  },
  {
   "cell_type": "code",
   "execution_count": 16,
   "metadata": {},
   "outputs": [],
   "source": [
    "prismC2P :: Prism a b s t -> PrismP a b s t\n",
    "prismC2P (Prism m b) = dimap m (either id b) . right'\n",
    "\n",
    "instance Profunctor (Prism a b) where\n",
    "    dimap :: (i -> c) -> (d -> o) -> Prism a b c d -> Prism a b i o\n",
    "    dimap f g (Prism m b) = Prism (either (Left . g) (Right) . m . f) (g . b)\n",
    "    \n",
    "instance Choice (Prism a b) where\n",
    "    left' :: Prism a b c d -> Prism a b (Either c e) (Either d e)\n",
    "    left' (Prism m b) = Prism (either (either (Left . Left) Right . m) (Left . Right))\n",
    "                              (Left . b)\n",
    "    \n",
    "    right' :: Prism a b c d -> Prism a b (Either e c) (Either e d)\n",
    "    right' (Prism m b) = Prism (either (Left . Left) (either (Left . Right) Right . m))\n",
    "                               (Right . b)\n",
    "\n",
    "prismP2C :: PrismP a b s t -> Prism a b s t\n",
    "prismP2C f = f (Prism Right id)"
   ]
  },
  {
   "cell_type": "markdown",
   "metadata": {},
   "source": [
    "**Traversals**\n",
    "\n",
    "- traversal datatype is a container with finite number of elements having an ordering. It can be _traversed_ whereby each element is visited in the given order\n",
    "\n",
    "- a container type `S` with elements of type `A` is a _traversal_ when there exists types `B`, `T`, and a traversal function of type `(A -> F B) -> (S -> F T)` for each applicative functor `F` (additionally satisfying some traversal laws)\n",
    "\n",
    "- as a **generalisation of lenses and prisms**, traversals provides access not just to a single component within a whole structure but onto an entire sequence of such components\n",
    "\n",
    "- traversal type `S` is equivalent to `∃n. A^n x (B^n -> T)`, where `n` is the number of elements in `S`. This tupling represents both yielding of sequence of elements inside container in the order mentioned and also replacing the container with a sequence of new elements\n",
    "\n",
    "- above equivalence can be captured as a datatype"
   ]
  },
  {
   "cell_type": "code",
   "execution_count": 17,
   "metadata": {},
   "outputs": [],
   "source": [
    "data FunList a b t = Done t | More a (FunList a b (b -> t))\n",
    "\n",
    "instance Functor (FunList a b) where\n",
    "    fmap f (Done t) = Done $ f t\n",
    "    fmap f (More x l) = More x (fmap (f .) l)\n",
    "    \n",
    "instance Applicative (FunList a b) where\n",
    "    pure = Done\n",
    "    Done f <*> f' = fmap f f'\n",
    "    More x l <*> f' = More x (flip <$> l <*> f')"
   ]
  },
  {
   "cell_type": "markdown",
   "metadata": {},
   "source": [
    "This datatype also is isomorphic to `Either T (A , FunList A B (B -> T))`"
   ]
  },
  {
   "cell_type": "code",
   "execution_count": 18,
   "metadata": {},
   "outputs": [],
   "source": [
    "out :: FunList a b t -> Either t (a, FunList a b (b -> t))\n",
    "out (Done t) = Left t\n",
    "out (More a l) = Right (a, l)\n",
    "\n",
    "inn :: Either t (a, FunList a b (b -> t)) -> FunList a b t\n",
    "inn = either Done (\\(a,l) -> More a l)"
   ]
  },
  {
   "cell_type": "markdown",
   "metadata": {},
   "source": [
    "Based on the above isomorphism, it can be proved that traversal function of type `(A -> F B) -> (S -> F T)` for each applicative functor `F` yields an isomorphism `S ≍ FunList A B T`\n",
    "\n",
    "The definition of concrete traversal then is"
   ]
  },
  {
   "cell_type": "code",
   "execution_count": 22,
   "metadata": {},
   "outputs": [],
   "source": [
    "newtype Traversal a b s t = Traversal {extract::s -> FunList a b t}\n",
    "\n",
    "-- traversal being the generalisation, we need all notions of sum, product, and empty\n",
    "type TraversalP a b s t = forall p. (Strong p, Choice p, Monoidal p) => Optic p a b s t"
   ]
  },
  {
   "cell_type": "markdown",
   "metadata": {},
   "source": [
    "To establish the isomorphism we need a notion of `traverse` that lifts a transformation of `A`s to `B`s to act on each of the elements of `FunList`"
   ]
  },
  {
   "cell_type": "code",
   "execution_count": 27,
   "metadata": {},
   "outputs": [],
   "source": [
    "traverse :: (Choice p, Monoidal p) => p a b -> p (FunList a c t) (FunList b c t)\n",
    "traverse k = dimap out inn (right' $ par k $ traverse k)"
   ]
  },
  {
   "cell_type": "code",
   "execution_count": 52,
   "metadata": {},
   "outputs": [],
   "source": [
    "fuse :: FunList b b t -> t\n",
    "fuse (Done t) = t\n",
    "fuse (More x l) = fuse l x\n",
    "\n",
    "single :: a -> FunList a b b\n",
    "single x = More x (Done id)\n",
    "\n",
    "traversalC2P :: Traversal a b s t -> TraversalP a b s t\n",
    "traversalC2P (Traversal f) p = dimap f fuse (traverse p)\n",
    "\n",
    "instance Profunctor (Traversal a b) where\n",
    "    dimap :: (i -> c) -> (d -> o) -> Traversal a b c d -> Traversal a b i o\n",
    "    dimap f g (Traversal h) = Traversal (fmap g . h . f)\n",
    "\n",
    "instance Strong (Traversal a b) where\n",
    "    first' :: Traversal a b c d -> Traversal a b (c, e) (d, e)\n",
    "    first' (Traversal s) = Traversal (\\(c,e) -> (,) <$> s c <*> pure e)\n",
    "    \n",
    "    second' :: Traversal a b c d -> Traversal a b (e, c) (e, d)\n",
    "    second' (Traversal s) = Traversal (\\(e, c) -> (,) <$> pure e <*> s c) \n",
    "    \n",
    "instance Choice (Traversal a b) where\n",
    "    left' :: Traversal a b c d -> Traversal a b (Either c e) (Either d e)\n",
    "    left' (Traversal s) = Traversal (either (fmap Left . s) (fmap Right . pure))\n",
    "    \n",
    "    right' :: Traversal a b c d -> Traversal a b (Either e c) (Either e d)\n",
    "    right' (Traversal s) = Traversal (either (fmap Left . pure) (fmap Right . s))\n",
    "    \n",
    "instance Monoidal (Traversal a b) where\n",
    "    empty :: Traversal a b () ()\n",
    "    empty = Traversal pure\n",
    "    \n",
    "    par :: Traversal a b c d -> Traversal a b e f -> Traversal a b (c, e) (d, f)\n",
    "    par (Traversal s) (Traversal t) = Traversal (\\(c,e) -> (,) <$> s c <*> t e)\n",
    "\n",
    "traversalP2C :: TraversalP a b s t -> Traversal a b s t\n",
    "traversalP2C f = f $ Traversal single"
   ]
  },
  {
   "cell_type": "code",
   "execution_count": 54,
   "metadata": {},
   "outputs": [],
   "source": [
    "traverseOf :: TraversalP a b s t -> (forall f. Applicative f => (a -> f b) -> (s -> f t))\n",
    "traverseOf p f = runStar $ p $ Star f "
   ]
  }
 ],
 "metadata": {
  "kernelspec": {
   "display_name": "Haskell",
   "language": "haskell",
   "name": "haskell"
  },
  "language_info": {
   "codemirror_mode": "ihaskell",
   "file_extension": ".hs",
   "name": "haskell",
   "pygments_lexer": "Haskell",
   "version": "8.4.4"
  }
 },
 "nbformat": 4,
 "nbformat_minor": 2
}
