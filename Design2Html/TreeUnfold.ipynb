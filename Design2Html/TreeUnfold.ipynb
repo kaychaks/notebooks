{
 "cells": [
  {
   "cell_type": "code",
   "execution_count": 1,
   "metadata": {},
   "outputs": [],
   "source": [
    ":set -XNoImplicitPrelude"
   ]
  },
  {
   "cell_type": "code",
   "execution_count": 2,
   "metadata": {},
   "outputs": [],
   "source": [
    "module TreeUnfold (unfoldFullTree) where\n",
    "\n",
    "import Papa\n",
    "import Data.Tree.Lens\n",
    "import Data.Tree\n",
    "\n",
    "-- check if the root of tree matches to the incoming item\n",
    "check :: Eq a => a -> Tree a -> Bool\n",
    "check i = (== i) . rootLabel\n",
    "\n",
    "-- create a traversal of plates as per the depth required by the unfold operation\n",
    "platesPerDepth :: (Plated a, Applicative f) => Int -> ((a -> f a) -> a -> f a)\n",
    "platesPerDepth i = foldl' (\\g p -> plate . g) id [0..i]\n",
    "\n",
    "fn :: Eq a => Int -> (Tree a, [a]) -> a -> (Tree a, [a])\n",
    "fn i (ts,ys) x = if isInLevel \n",
    "                then \n",
    "                    (ts,ys) -- ^ if new node is already there then move on\n",
    "                else \n",
    "                    (append ts,ys) -- ^ append the new node to the right parent\n",
    "    where\n",
    "        newNode = Node x [] -- ^ new node\n",
    "        parent = ys ^?! ix (i - 1) -- ^ parent index, required in case of a new child\n",
    "        isInLevel = isJust $ ts ^? platesPerDepth i . filtered (check x) -- ^ check if new node is already there in this level\n",
    "        append = bool (over (platesPerDepth (i - 1) . filtered (check parent)) (branches <>~ [newNode])) -- ^ add the new node as a new child to a specific parent\n",
    "                      (over branches (<> [newNode])) -- ^ if first node then just add it there\n",
    "                      (i == 0) -- ^ check if it's first node\n",
    "\n",
    "\n",
    "-- unfold a tree from list of lists where each list is for items that signifies\n",
    "-- the path of an element (last one of the list) right from the top of the tree\n",
    "-- \n",
    "-- the function takes an initial tree as the container tree within which rest of the final tree is constructed\n",
    "-- \n",
    "unfoldFullTree :: Eq a => Tree a -> [[a]] -> Tree a\n",
    "unfoldFullTree = foldl' (\\t ys -> fst $  ifoldl' fn (t,ys) ys)\n"
   ]
  },
  {
   "cell_type": "code",
   "execution_count": 5,
   "metadata": {},
   "outputs": [
    {
     "data": {
      "text/plain": [
       "True"
      ]
     },
     "metadata": {},
     "output_type": "display_data"
    },
    {
     "data": {
      "text/plain": [
       "True"
      ]
     },
     "metadata": {},
     "output_type": "display_data"
    },
    {
     "data": {
      "text/plain": [
       "True"
      ]
     },
     "metadata": {},
     "output_type": "display_data"
    },
    {
     "data": {
      "text/plain": [
       "True"
      ]
     },
     "metadata": {},
     "output_type": "display_data"
    },
    {
     "data": {
      "text/plain": [
       "True"
      ]
     },
     "metadata": {},
     "output_type": "display_data"
    },
    {
     "data": {
      "text/plain": [
       "True"
      ]
     },
     "metadata": {},
     "output_type": "display_data"
    }
   ],
   "source": [
    "-- Tests\n",
    "import Papa\n",
    "import Data.Tree\n",
    "\n",
    "tr1 = Node 0 []\n",
    "\n",
    "inp = [[1,2,4],[1,2],[1,2,4,5],[1],[1,2,3]]\n",
    "unfoldFullTree tr1 inp == Node 0 [Node 1 [Node 2 [Node 4 [Node 5 []], Node 3 []]]]\n",
    "\n",
    "inp1 = [[1],[2],[3]]\n",
    "unfoldFullTree tr1 inp1 == Node 0 [Node 1 [], Node 2 [], Node 3 []]\n",
    "\n",
    "inp2 = [[1,2,3], [2,3,4], [1,4,6]]\n",
    "unfoldFullTree tr1 inp2 == Node 0 [Node 1 [Node 2 [Node 3 []], Node 4 [Node 6 []]], Node 2 [Node 3 [Node 4 []]]]\n",
    "\n",
    "inp3 = [[1,2],[1,3],[1,4],[1],[1,3,5]]\n",
    "unfoldFullTree tr1 inp3 == Node 0 [Node 1 [Node 2 [], Node 3 [Node 5 []], Node 4 []]]\n",
    "\n",
    "inp4 = [[1,3],[1,2,5],[1,3,6,7],[1],[1,2]]\n",
    "unfoldFullTree tr1 inp4 == Node 0 [Node 1 [Node 3 [Node 6 [Node 7 []]], Node 2 [Node 5 []]]]\n",
    "\n",
    "inp5 = [[1,2,3],[1,2],[1,3,2],[1,3],[1]]\n",
    "unfoldFullTree tr1 inp5 == Node 0 [Node 1 [Node 2 [Node 3 []], Node 3 [Node 2 []]]]\n",
    "\n",
    "\n",
    "\n"
   ]
  }
 ],
 "metadata": {
  "kernelspec": {
   "display_name": "Haskell",
   "language": "haskell",
   "name": "haskell"
  },
  "language_info": {
   "codemirror_mode": "ihaskell",
   "file_extension": ".hs",
   "name": "haskell",
   "pygments_lexer": "Haskell",
   "version": "8.6.4"
  }
 },
 "nbformat": 4,
 "nbformat_minor": 2
}
