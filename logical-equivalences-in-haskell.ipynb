{
 "cells": [
  {
   "cell_type": "markdown",
   "metadata": {},
   "source": [
    "---\n",
    "title: \"Logical equivalences in Haskell\"\n",
    "published: 2019-01-03\n",
    "tags: technology haskell\n",
    "link: \n",
    "---"
   ]
  },
  {
   "cell_type": "markdown",
   "metadata": {},
   "source": [
    "\n"
   ]
  },
  {
   "cell_type": "markdown",
   "metadata": {},
   "source": [
    "The blogpost [Classical Logic in Haskell](https://cvlad.info/clasical-logic-in-haskell/) established a way to prove equivalences between logical propositions and _law of excluded middle_ by writing intances of `Iso` for the same propositions wrapped in a `newtype`. [Vladimir's](https://twitter.com/cvlad) post contain proofs of some important propositions. I had fun proving them myself. I wanted to continue with some more. \n",
    "\n",
    "Recently, I did the [Logic and Proof](https://leanprover.github.io/logic_and_proof/) course to learn both proof techniques and [Lean](https://leanprover.github.io/) theorem prover. It was fun. So I picked few propositions from the exercises of the [Propositional Logic in Lean](https://leanprover.github.io/logic_and_proof/propositional_logic_in_lean.html#exercises) chapter to try write equivalence proofs for them.\n",
    "\n",
    "Below are the propositions as newtypes (their logical notations mentioned as comment) and subsequently the `Iso` instances to prove their equivalences with `Lem`. As mentioned in the original blogpost, one nice way to progress here is by taking clues from the type system itself in the form of [typed holes](https://wiki.haskell.org/GHC/Typed_holes)."
   ]
  },
  {
   "cell_type": "markdown",
   "metadata": {},
   "source": [
    "\n"
   ]
  },
  {
   "cell_type": "markdown",
   "metadata": {},
   "source": [
    "Let's set some language pragmas"
   ]
  },
  {
   "cell_type": "code",
   "execution_count": 1,
   "metadata": {},
   "outputs": [],
   "source": [
    ":set -XMultiParamTypeClasses\n",
    ":set -XRankNTypes\n",
    ":set -XInstanceSigs\n",
    ":set -XScopedTypeVariables\n",
    ":set -XTupleSections"
   ]
  },
  {
   "cell_type": "markdown",
   "metadata": {},
   "source": [
    "Required `Iso` class from the original blogpost put inside a module so that it can be imported for rest of the sections"
   ]
  },
  {
   "cell_type": "code",
   "execution_count": 2,
   "metadata": {},
   "outputs": [],
   "source": [
    "module Proof where\n",
    "import Data.Void (Void, absurd)\n",
    "\n",
    "class Iso a b where\n",
    "    to :: a -> b\n",
    "    from :: b -> a\n",
    "    \n",
    "-- Law of excluded middle\n",
    "-- forall P. P \\/ -P\n",
    "newtype Lem m = \n",
    "    Lem\n",
    "        (forall a .\n",
    "            m (Either a (a -> m Void)))    "
   ]
  },
  {
   "cell_type": "code",
   "execution_count": 3,
   "metadata": {},
   "outputs": [],
   "source": [
    "import Data.Void\n",
    "import Proof"
   ]
  },
  {
   "cell_type": "markdown",
   "metadata": {},
   "source": [
    "\n"
   ]
  },
  {
   "cell_type": "markdown",
   "metadata": {},
   "source": [
    "And now the propositions..."
   ]
  },
  {
   "cell_type": "code",
   "execution_count": 4,
   "metadata": {},
   "outputs": [],
   "source": [
    "-- forall. P,Q. P /\\ (P -> Q) -> Q\n",
    "\n",
    "import Control.Monad.Fix\n",
    "\n",
    "newtype Prop1 m = \n",
    "    Prop1 \n",
    "        (forall a b. \n",
    "            (a , (a -> m b)) -> m b)\n",
    "            \n",
    "-- proof, implication elimination <==> LEM\n",
    "instance Monad m => Proof.Iso (Prop1 m) (Lem m) where\n",
    "    from :: Lem m -> Prop1 m\n",
    "    from _ = Prop1 $ uncurry (flip id)\n",
    "            \n",
    "    to :: Prop1 m -> Lem m\n",
    "    to (Prop1 i) = Lem $ fmap Left $ i (id, pure . fix)"
   ]
  },
  {
   "cell_type": "code",
   "execution_count": 5,
   "metadata": {},
   "outputs": [],
   "source": [
    "-- forall. P,Q. P -> - (- P /\\ B)\n",
    "\n",
    "newtype Prop2 m = \n",
    "    Prop2\n",
    "        (forall a b.\n",
    "            (a -> m (((a -> m Void), b) -> m Void)))\n",
    "            \n",
    "-- proof, Prop2 <==> LEM\n",
    "instance Monad m => Proof.Iso (Prop2 m) (Lem m) where\n",
    "    to :: Prop2 m -> Lem m\n",
    "    to (Prop2 p) = Lem $ pure $ Right proof where\n",
    "        proof :: a -> m Void\n",
    "        proof x = p x >>= ($ (proof, x))\n",
    "    \n",
    "    from :: Lem m -> Prop2 m\n",
    "    from (Lem l) = Prop2 $ flip fmap l . proof where\n",
    "        proof :: a -> Either a (a -> m Void) -> (((a -> m Void), b) -> m Void)\n",
    "        proof x = either (flip fst) (\\f _ -> f x)\n",
    "        "
   ]
  },
  {
   "cell_type": "code",
   "execution_count": 6,
   "metadata": {},
   "outputs": [],
   "source": [
    "-- forall. P,Q. - (P /\\ Q) -> (P -> - Q)\n",
    "import           Control.Applicative (liftA2)\n",
    "\n",
    "newtype Prop3 m = \n",
    "    Prop3\n",
    "        (forall a b.\n",
    "            ((a,b) -> m Void) -> m (a -> m (b -> m Void)))\n",
    "            \n",
    "-- proof, Prop3 <==> LEM\n",
    "instance Monad m => Proof.Iso (Prop3 m) (Lem m) where\n",
    "    to :: Prop3 m -> Lem m\n",
    "    to (Prop3 p) = Lem $ fmap Right $ proof >>= (\\f -> pure (liftA2 (>>=) f (flip id))) where\n",
    "        proof :: m (a -> m (a -> m Void))\n",
    "        proof = p (\\(x,y) -> proof >>= (($ y) =<<) . ($ x))\n",
    "        \n",
    "    from :: Lem m -> Prop3 m\n",
    "    from (Lem l) = Prop3 $ (\\f -> pure (\\a -> either (const . f . (a ,)) id <$> l))"
   ]
  },
  {
   "cell_type": "code",
   "execution_count": 7,
   "metadata": {},
   "outputs": [],
   "source": [
    "import Proof\n",
    "-- forall. P,Q. -P /\\ -Q -> - (P \\/ Q)\n",
    "\n",
    "newtype Prop4 m = \n",
    "    Prop4\n",
    "        (forall a b.\n",
    "            ((a -> m Void , b -> m Void) -> m (Either a b ->  m Void)))\n",
    "            \n",
    "-- proof, Prop4 <==> LEM\n",
    "instance Monad m => Proof.Iso (Prop4 m) (Lem m) where\n",
    "    to :: Prop4 m -> Lem m\n",
    "    to (Prop4 p) = Lem $ pure $ Right ((proof >>=) . flip id . Left) where\n",
    "        proof :: m (Either a a -> m Void)\n",
    "        proof = curry p ((proof >>=) . flip id . Left) ((proof >>=) . flip id . Right)\n",
    "        \n",
    "    from :: Lem m -> Prop4 m\n",
    "    from _ = Prop4 $ uncurry $ (pure .) . either"
   ]
  },
  {
   "cell_type": "markdown",
   "metadata": {},
   "source": [
    "---"
   ]
  },
  {
   "cell_type": "markdown",
   "metadata": {},
   "source": [
    "_This is an [IHaskell Notebook]() which is pretty cool for above kind of experiments. Much more feature rich than GHCi. I got the inspiration from [Vaibhav Sagar](https://twitter.com/vbhvsgr) who writes [all his posts](https://vaibhavsagar.com/) as IHaskell Notebooks._"
   ]
  }
 ],
 "metadata": {
  "kernelspec": {
   "display_name": "Haskell",
   "language": "haskell",
   "name": "haskell"
  },
  "language_info": {
   "codemirror_mode": "ihaskell",
   "file_extension": ".hs",
   "name": "haskell",
   "pygments_lexer": "Haskell",
   "version": "8.4.4"
  }
 },
 "nbformat": 4,
 "nbformat_minor": 2
}
