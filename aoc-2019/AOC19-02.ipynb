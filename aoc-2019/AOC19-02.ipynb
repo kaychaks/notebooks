{
 "cells": [
  {
   "cell_type": "code",
   "execution_count": 4,
   "metadata": {},
   "outputs": [],
   "source": [
    ":set -XNoImplicitPrelude\n",
    ":set -XOverloadedStrings\n",
    ":set -XLambdaCase"
   ]
  },
  {
   "cell_type": "code",
   "execution_count": 5,
   "metadata": {},
   "outputs": [],
   "source": [
    "import Papa\n",
    "import Control.Monad.State\n",
    "import qualified Prelude as P (read, undefined)\n",
    "import qualified Data.IntMap as IM\n",
    "import Data.Monoid\n"
   ]
  },
  {
   "cell_type": "code",
   "execution_count": 23,
   "metadata": {},
   "outputs": [],
   "source": [
    "type Input = [Int]\n",
    "type Output = IM.IntMap Int\n",
    "\n",
    "data ParseResult' a =  Halt' Output | Result' Input a | Unknown' deriving (Show)\n",
    "\n",
    "instance Functor ParseResult' where\n",
    "    _ `fmap` Halt' a = Halt' a\n",
    "    _ `fmap` Unknown' = Unknown'\n",
    "    f `fmap` Result' i a = Result' i (f a)\n",
    "\n",
    "isHalt' :: ParseResult' a -> Bool\n",
    "isHalt' (Halt' _) = True\n",
    "isHalt' _ = False\n",
    "\n",
    "isError :: ParseResult' a -> Bool\n",
    "isError Unknown' = True\n",
    "isError _ = False\n",
    "\n",
    "onResult :: ParseResult' a -> \n",
    "    (Input -> a -> ParseResult' b) -> \n",
    "    ParseResult' b\n",
    "onResult Unknown' _ = Unknown'\n",
    "onResult (Halt' i) _ = Halt' i\n",
    "onResult (Result' i a) k = k i a\n",
    "\n",
    "onHalt :: ParseResult' a -> Maybe Output\n",
    "onHalt (Halt' i) = Just i\n",
    "onHalt _ = Nothing\n",
    "\n",
    "newtype Parser' a = Parser' (Input -> ParseResult' a) \n",
    "\n",
    "parse' :: Parser' a -> Input -> ParseResult' a\n",
    "parse' (Parser' p) = p\n",
    "\n",
    "instance Functor Parser' where\n",
    "    f `fmap` (Parser' p) = Parser' (fmap f . p )\n",
    "\n",
    "instance Applicative Parser' where\n",
    "    pure a = Parser' (`Result'` a) -- valueParser\n",
    "    \n",
    "    (Parser' f) <*> (Parser' p) = Parser' (\\i -> case p i of\n",
    "        Halt' a -> Halt' a\n",
    "        Unknown' -> Unknown'\n",
    "        Result' j a -> (\\g -> g a) <$> f j)\n",
    "        \n",
    "instance Monad Parser' where\n",
    "    (Parser' p) >>= f = Parser' (\\i ->\n",
    "        onResult (p i) (\\j a -> parse' (f a) j))\n",
    "    \n",
    "\n",
    "\n",
    "addParser :: Parser' Output\n",
    "addParser = Parser' (\n",
    "    \\case\n",
    "        l@(o : a : b : c : xs) | o == 1 -> \n",
    "            let v = IM.fromList $ itoList l\n",
    "            in\n",
    "            Result' xs $ \n",
    "                maybe \n",
    "                    v\n",
    "                    ((`IM.union` v) . IM.singleton c) \n",
    "                    (liftA2 (liftA2 (+)) (!! a) (!! b) l)\n",
    "        _ -> Unknown')\n",
    "    \n",
    "    \n",
    "prodParser :: Parser' Output\n",
    "prodParser = Parser' (\n",
    "    \\case \n",
    "        l@(o : a : b : c : xs) | o == 2 -> \n",
    "            let v = IM.fromList $ itoList l\n",
    "            in\n",
    "            Result' xs $ \n",
    "                maybe \n",
    "                    v \n",
    "                    ((`IM.union` v) . IM.singleton c) \n",
    "                    (liftA2 (liftA2 (*)) (!! a) (!! b) l) \n",
    "        _ -> Unknown')\n",
    "    \n",
    "haltParser :: Parser' Output\n",
    "haltParser = Parser' (\n",
    "    \\case\n",
    "        l@(o : _) | o == 99 -> Halt' (IM.fromList $ itoList l)\n",
    "        _ -> Unknown')\n",
    "        \n",
    "\n",
    "(|||) :: Parser' a -> Parser' a -> Parser' a\n",
    "(Parser' p1) ||| (Parser' p2) = Parser' (\\i -> let v = p1 i in bool v (p2 i) (isError v))\n",
    "    "
   ]
  },
  {
   "cell_type": "code",
   "execution_count": null,
   "metadata": {},
   "outputs": [
    {
     "data": {
      "text/plain": [
       "Result' [5,99] (fromList [(0,2),(1,2),(2,3),(3,4),(4,12),(5,99)])"
      ]
     },
     "metadata": {},
     "output_type": "display_data"
    }
   ],
   "source": [
    "parse' (addParser ||| prodParser ||| haltParser) [2,2,3,4,5,99]"
   ]
  }
 ],
 "metadata": {
  "kernelspec": {
   "display_name": "Haskell",
   "language": "haskell",
   "name": "haskell"
  },
  "language_info": {
   "codemirror_mode": "ihaskell",
   "file_extension": ".hs",
   "name": "haskell",
   "pygments_lexer": "Haskell",
   "version": "8.6.5"
  }
 },
 "nbformat": 4,
 "nbformat_minor": 2
}
