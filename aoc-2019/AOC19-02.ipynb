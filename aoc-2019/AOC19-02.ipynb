{
 "cells": [
  {
   "cell_type": "code",
   "execution_count": 1,
   "metadata": {},
   "outputs": [],
   "source": [
    ":set -XNoImplicitPrelude\n",
    ":set -XOverloadedStrings\n",
    ":set -XLambdaCase"
   ]
  },
  {
   "cell_type": "code",
   "execution_count": 2,
   "metadata": {},
   "outputs": [],
   "source": [
    "import Papa\n",
    "import Control.Monad.State\n",
    "import Control.Monad.State.Class\n",
    "import qualified Prelude as P (read, undefined)\n",
    "import qualified Data.IntMap as IM\n",
    "import Data.Monoid\n",
    "import Control.Monad.Reader\n",
    "\n"
   ]
  },
  {
   "cell_type": "code",
   "execution_count": 3,
   "metadata": {},
   "outputs": [],
   "source": [
    "type Input = [Int]\n",
    "type Output = IM.IntMap Int\n",
    "\n",
    "data ParseResult' a =  Halt' Output | Result' Input a | Unknown' deriving (Show)\n",
    "\n",
    "instance Functor ParseResult' where\n",
    "    _ `fmap` Halt' a = Halt' a\n",
    "    _ `fmap` Unknown' = Unknown'\n",
    "    f `fmap` Result' i a = Result' i (f a)\n",
    "\n",
    "\n",
    "isHalt' :: ParseResult' a -> Bool\n",
    "isHalt' (Halt' _) = True\n",
    "isHalt' _ = False\n",
    "\n",
    "isError :: ParseResult' a -> Bool\n",
    "isError Unknown' = True\n",
    "isError _ = False\n",
    "\n",
    "onResult :: ParseResult' a -> \n",
    "    (Input -> a -> ParseResult' b) -> \n",
    "    ParseResult' b\n",
    "onResult Unknown' _ = Unknown'\n",
    "onResult (Halt' i) _ = Halt' i\n",
    "onResult (Result' i a) k = k i a\n",
    "\n",
    "-- onHalt :: ParseResult' a -> Maybe Output\n",
    "-- onHalt (Halt' i) = Just i\n",
    "-- onHalt _ = Nothing\n",
    "\n",
    "newtype Parser' a = Parser' (Input -> ParseResult' a) \n",
    "\n",
    "parse' :: Parser' a -> Input -> ParseResult' a\n",
    "parse' (Parser' p) = p\n",
    "\n",
    "instance Functor Parser' where\n",
    "    f `fmap` (Parser' p) = Parser' (fmap f . p )\n",
    "\n",
    "instance Applicative Parser' where\n",
    "    pure a = Parser' (`Result'` a) -- valueParser\n",
    "    \n",
    "    (Parser' f) <*> (Parser' p) = Parser' (\\i -> case p i of\n",
    "        Halt' a -> Halt' a\n",
    "        Unknown' -> Unknown'\n",
    "        Result' j a -> (\\g -> g a) <$> f j)\n",
    "        \n",
    "instance Monad Parser' where\n",
    "    (Parser' p) >>= f = Parser' (\\i ->\n",
    "        onResult (p i) (\\j a -> parse' (f a) j))\n",
    "        \n",
    "(|||) :: Parser' a -> Parser' a -> Parser' a\n",
    "(Parser' p1) ||| (Parser' p2) = Parser' (\\i -> let v = p1 i in bool v (p2 i) (isError v || isHalt' v))\n",
    "\n",
    "list1 :: Parser' a -> Parser' [a]\n",
    "list1 p = p >>= (\\a -> (a :) <$> list p)\n",
    "\n",
    "list :: Parser' a -> Parser' [a]\n",
    "list p = list1 p ||| pure []\n",
    "\n",
    "        \n",
    "addParser' :: Parser' (State Output ())\n",
    "addParser' = Parser' (\n",
    "    \\case\n",
    "        l@(o : a : b : c : xs) | o == 1 ->\n",
    "            Result' xs (modify (\\s -> \n",
    "                IM.update \n",
    "                    ((liftA2 (+) (s IM.!? a) (s IM.!? b) <|>) . Just) \n",
    "                    c\n",
    "                    s\n",
    "                ))\n",
    "        _ -> Unknown'\n",
    "    )\n",
    "        \n",
    "prodParser' :: Parser' (State Output ())\n",
    "prodParser' = Parser' (\n",
    "    \\case\n",
    "        l@(o : a : b : c : xs) | o == 2 ->\n",
    "            Result' xs (modify (\\s -> \n",
    "                IM.update \n",
    "                    ((liftA2 (*) (s IM.!? a) (s IM.!? b) <|>) . Just) \n",
    "                    c\n",
    "                    s\n",
    "                ))\n",
    "        _ -> Unknown'\n",
    "    )\n",
    "    \n",
    "    \n",
    "haltParser' :: Parser' (State Output ())\n",
    "haltParser' = Parser' (\n",
    "    \\case\n",
    "        l@(o : _) | o == 99 -> Halt' (IM.fromList $ itoList l)\n",
    "        _ -> Unknown')\n",
    "        \n",
    "\n",
    "        \n",
    "extract :: Input -> ParseResult' [State Output ()] -> Output\n",
    "extract i p =  let ii = IM.fromList $ itoList i in \n",
    "    case fmap (foldl' (flip execState) ii) p of\n",
    "        Result' _ a -> a\n",
    "        _ -> IM.empty"
   ]
  },
  {
   "cell_type": "code",
   "execution_count": 4,
   "metadata": {},
   "outputs": [
    {
     "data": {
      "text/plain": [
       "Just 3790645"
      ]
     },
     "metadata": {},
     "output_type": "display_data"
    }
   ],
   "source": [
    "let d = [1,0,0,3,1,1,2,3,1,3,4,3,1,5,0,3,2,1,10,19,1,19,6,23,2,23,13,27,1,27,5,31,2,31,10,35,1,9,35,39,1,39,9,43,2,9,43,47,1,5,47,51,2,13,51,55,1,55,9,59,2,6,59,63,1,63,5,67,1,10,67,71,1,71,10,75,2,75,13,79,2,79,13,83,1,5,83,87,1,87,6,91,2,91,13,95,1,5,95,99,1,99,2,103,1,103,6,0,99,2,14,0,0]\n",
    "let dd = d & ix 1 .~ 12 & ix 2 .~ 2\n",
    "\n",
    "let resParser = parse' (list (prodParser' ||| addParser' ||| haltParser'))\n",
    "\n",
    "liftA2 (IM.lookup 0 .) extract resParser dd"
   ]
  },
  {
   "cell_type": "code",
   "execution_count": 5,
   "metadata": {},
   "outputs": [
    {
     "data": {
      "text/plain": [
       "Just 6577"
      ]
     },
     "metadata": {},
     "output_type": "display_data"
    }
   ],
   "source": [
    "let anvs = [(noun,verb)| noun <- [0..99], verb <- [0..99]]\n",
    "\n",
    "let mkInp n v = d & ix 1 .~ n & ix 2 .~ v\n",
    "\n",
    "f (a : n : v : _) | a == 19690720 = True\n",
    "f _  = False\n",
    "\n",
    "g (_ : n : v : _) = Just $ 100 * n + v\n",
    "g _ = Nothing\n",
    "\n",
    "\n",
    "g =<< (find f $ \n",
    "            (liftA2 (toListOf (taking 3 traverse) .) extract resParser) \n",
    "            <$> \n",
    "            (uncurry mkInp <$> anvs))"
   ]
  }
 ],
 "metadata": {
  "kernelspec": {
   "display_name": "Haskell",
   "language": "haskell",
   "name": "haskell"
  },
  "language_info": {
   "codemirror_mode": "ihaskell",
   "file_extension": ".hs",
   "name": "haskell",
   "pygments_lexer": "Haskell",
   "version": "8.6.5"
  }
 },
 "nbformat": 4,
 "nbformat_minor": 2
}
