{
 "cells": [
  {
   "cell_type": "code",
   "execution_count": 1,
   "metadata": {},
   "outputs": [],
   "source": [
    ":set -XOverloadedStrings\n",
    ":set -XNoImplicitPrelude"
   ]
  },
  {
   "cell_type": "code",
   "execution_count": 2,
   "metadata": {},
   "outputs": [],
   "source": [
    "import Papa\n",
    "import qualified Prelude as P (read)\n",
    "import qualified Data.List.NonEmpty as NE (takeWhile)"
   ]
  },
  {
   "cell_type": "code",
   "execution_count": 3,
   "metadata": {},
   "outputs": [],
   "source": [
    "fuelCounterUpper :: Integer -> Integer\n",
    "fuelCounterUpper x = flip (-) 2 $ floor (fromIntegral x / 3)\n",
    "\n",
    "fuelCounterUpperRec :: Integer -> Integer\n",
    "fuelCounterUpperRec =  sum . drop 1 . NE.takeWhile (> 0) . iterate fuelCounterUpper\n",
    "\n",
    "fuelAll :: [Integer] -> Sum Integer\n",
    "fuelAll = foldMap (pure . fuelCounterUpper)\n",
    "\n",
    "fuelAllRec :: [Integer] -> Sum Integer\n",
    "fuelAllRec = foldMap (pure . fuelCounterUpperRec)\n",
    "\n"
   ]
  },
  {
   "cell_type": "code",
   "execution_count": 4,
   "metadata": {},
   "outputs": [
    {
     "data": {
      "text/plain": [
       "Sum {getSum = 3361299}"
      ]
     },
     "metadata": {},
     "output_type": "display_data"
    },
    {
     "data": {
      "text/plain": [
       "Sum {getSum = 5039071}"
      ]
     },
     "metadata": {},
     "output_type": "display_data"
    }
   ],
   "source": [
    "p1Data <- readFile \"./data/day01-p01\"\n",
    "\n",
    "p1Data_L :: [Integer]\n",
    "p1Data_L = P.read <$> lines p1Data\n",
    "\n",
    "fuelAll $ p1Data_L\n",
    "fuelAllRec p1Data_L\n",
    "\n",
    "\n"
   ]
  }
 ],
 "metadata": {
  "kernelspec": {
   "display_name": "Haskell",
   "language": "haskell",
   "name": "haskell"
  },
  "language_info": {
   "codemirror_mode": "ihaskell",
   "file_extension": ".hs",
   "name": "haskell",
   "pygments_lexer": "Haskell",
   "version": "8.6.5"
  }
 },
 "nbformat": 4,
 "nbformat_minor": 2
}
