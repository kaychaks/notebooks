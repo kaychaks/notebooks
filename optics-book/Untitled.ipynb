{
 "cells": [
  {
   "cell_type": "code",
   "execution_count": 1,
   "metadata": {},
   "outputs": [],
   "source": [
    "import Control.Lens\n",
    "import Control.Applicative \n",
    "import Data.Char\n",
    "import qualified Data.Map as M \n",
    "import qualified Data.Set as S \n",
    "import qualified Data.Text as T"
   ]
  },
  {
   "cell_type": "code",
   "execution_count": 2,
   "metadata": {},
   "outputs": [],
   "source": [
    ":extension TemplateHaskell\n",
    ":extension FlexibleInstances\n",
    ":extension FlexibleContexts\n",
    ":extension RankNTypes\n",
    ":extension ScopedTypeVariables\n",
    ":extension TypeApplications\n",
    ":extension TypeFamilies\n",
    ":extension InstanceSigs"
   ]
  },
  {
   "cell_type": "code",
   "execution_count": 3,
   "metadata": {},
   "outputs": [
    {
     "data": {
      "text/plain": [
       "Just \"racecar\""
      ]
     },
     "metadata": {},
     "output_type": "display_data"
    },
    {
     "data": {
      "text/plain": [
       "True"
      ]
     },
     "metadata": {},
     "output_type": "display_data"
    },
    {
     "data": {
      "text/plain": [
       "Just (3,\"Be\")"
      ]
     },
     "metadata": {},
     "output_type": "display_data"
    },
    {
     "data": {
      "text/plain": [
       "Just \"there\""
      ]
     },
     "metadata": {},
     "output_type": "display_data"
    },
    {
     "data": {
      "text/plain": [
       "\"cba\""
      ]
     },
     "metadata": {},
     "output_type": "display_data"
    },
    {
     "data": {
      "text/plain": [
       "\"54321\""
      ]
     },
     "metadata": {},
     "output_type": "display_data"
    },
    {
     "data": {
      "text/plain": [
       "[\"b\",\"d\"]"
      ]
     },
     "metadata": {},
     "output_type": "display_data"
    }
   ],
   "source": [
    "import Data.Ord (comparing)\n",
    "\n",
    "checkPalindrome :: String -> Bool\n",
    "checkPalindrome s = reverse s == s\n",
    "\n",
    "input1 = [\"umbrella\", \"olives\", \"racecar\", \"hammer\"]\n",
    "findOf folded checkPalindrome input1\n",
    "\n",
    "input2 = (2, 4, 6)\n",
    "allOf each even input2\n",
    "\n",
    "input3 = [(2, \"I'll\"), (3, \"Be\"), (1, \"Back\")]\n",
    "maximumByOf folded (comparing fst) input3\n",
    "\n",
    "\n",
    "countVowels :: String -> Int\n",
    "countVowels = length . filter (\\c -> elemOf folded c \"aeiou\")\n",
    "\n",
    "input4 = \"Do or do not, there is no try.\"\n",
    "maximumByOf worded (comparing countVowels) input4\n",
    "\n",
    "input5 = [\"a\", \"b\", \"c\"]\n",
    "foldrOf folded (flip (++)) mempty input5\n",
    "\n",
    "input6 = [(12, 45, 66), (91, 123, 87)]\n",
    "toListOf (folded . _2 . to (reverse . show) . folded) input6\n",
    "\n",
    "input7 = [(1, \"a\"), (2, \"b\"), (3, \"c\"), (4, \"d\")]\n",
    "foldMapOf folded (\\(a , r) -> [r | even a]) input7\n"
   ]
  },
  {
   "cell_type": "code",
   "execution_count": 4,
   "metadata": {},
   "outputs": [
    {
     "data": {
      "text/plain": [
       "\"looking at you, kid\""
      ]
     },
     "metadata": {},
     "output_type": "display_data"
    },
    {
     "data": {
      "text/plain": [
       "[\"My\",\"Hakuna\",\"No\"]"
      ]
     },
     "metadata": {},
     "output_type": "display_data"
    },
    {
     "data": {
      "text/plain": [
       "[\"My\"]"
      ]
     },
     "metadata": {},
     "output_type": "display_data"
    },
    {
     "data": {
      "text/plain": [
       "\"MyHakunaNo\""
      ]
     },
     "metadata": {},
     "output_type": "display_data"
    },
    {
     "data": {
      "text/plain": [
       "60"
      ]
     },
     "metadata": {},
     "output_type": "display_data"
    },
    {
     "data": {
      "text/plain": [
       "[\"evil\",\"guns\",\"stressed\"]"
      ]
     },
     "metadata": {},
     "output_type": "display_data"
    },
    {
     "data": {
      "text/plain": [
       "[\"live\",\"snug\",\"desserts\"]"
      ]
     },
     "metadata": {},
     "output_type": "display_data"
    },
    {
     "data": {
      "text/plain": [
       "\"1829420\""
      ]
     },
     "metadata": {},
     "output_type": "display_data"
    },
    {
     "data": {
      "text/plain": [
       "2"
      ]
     },
     "metadata": {},
     "output_type": "display_data"
    },
    {
     "data": {
      "text/plain": [
       "Just 4"
      ]
     },
     "metadata": {},
     "output_type": "display_data"
    },
    {
     "data": {
      "text/plain": [
       "2"
      ]
     },
     "metadata": {},
     "output_type": "display_data"
    },
    {
     "data": {
      "text/plain": [
       "[4,3,8,6]"
      ]
     },
     "metadata": {},
     "output_type": "display_data"
    },
    {
     "data": {
      "text/plain": [
       "[4,3,8,6,-2,3]"
      ]
     },
     "metadata": {},
     "output_type": "display_data"
    },
    {
     "data": {
      "text/plain": [
       "[4,3,8,6,-2,3]"
      ]
     },
     "metadata": {},
     "output_type": "display_data"
    }
   ],
   "source": [
    "-- higher order folds\n",
    "\n",
    "\"Here's looking at you, kid\" ^.. dropping 7 folded\n",
    "\n",
    "[\"My Precious\", \"Hakuna Matata\", \"No problemo\"] ^.. folded . taking 1 worded\n",
    "\n",
    "[\"My Precious\", \"Hakuna Matata\", \"No problemo\"] ^.. taking 1 (folded . worded)\n",
    "\n",
    "[\"My Precious\", \"Hakuna Matata\", \"No problemo\"] ^.. folded . taking 1 worded . folded\n",
    "\n",
    "sumOf (taking 2 each) (10, 50, 100)\n",
    "\n",
    "(\"stressed\", \"guns\", \"evil\") ^.. backwards each\n",
    "\n",
    "(\"stressed\", \"guns\", \"evil\") ^.. backwards each . to reverse\n",
    " \n",
    "\"blink182 k9 blazeit420\" ^.. worded . droppingWhile isAlpha folded\n",
    "\n",
    "sample :: [Int]\n",
    "sample = [-10, -5, 4, 3, 8, 6, -2, 3, -5, -7]\n",
    "\n",
    "lengthOf (takingWhile (<= 0) folded) sample\n",
    "\n",
    "maximumOf (taking 4 folded) sample\n",
    "\n",
    "(lengthOf . backwards) (takingWhile (<= 0) folded) sample\n",
    "\n",
    "sample ^.. droppingWhile (<= 0) folded ^.. takingWhile (> 0) folded\n",
    "\n",
    "(sample ^.. droppingWhile (<= 0) folded) ^.. backwards (droppingWhile (<= 0) (backwards folded))\n",
    "\n",
    "trimmingWhile :: (a -> Bool) -> Fold s a -> Fold s a\n",
    "trimmingWhile f s = backwards $ droppingWhile f $ backwards $ droppingWhile f s\n",
    "\n",
    "sample ^.. trimmingWhile (<= 0) folded\n"
   ]
  },
  {
   "cell_type": "code",
   "execution_count": 44,
   "metadata": {},
   "outputs": [
    {
     "data": {
      "text/plain": [
       "(\"N/A\",\"N/A\")"
      ]
     },
     "metadata": {},
     "output_type": "display_data"
    },
    {
     "data": {
      "text/plain": [
       "(\"xxxxxxxx\",\"xxxx\")"
      ]
     },
     "metadata": {},
     "output_type": "display_data"
    },
    {
     "data": {
      "text/plain": [
       "(\"Mal\",[\"Kay\",\"Ina\",\"Jay\"])"
      ]
     },
     "metadata": {},
     "output_type": "display_data"
    },
    {
     "data": {
      "text/plain": [
       "(\"Malcolm\",[\"Kaylee\",\"River\",\"Jayne\"])"
      ]
     },
     "metadata": {},
     "output_type": "display_data"
    },
    {
     "data": {
      "text/plain": [
       "[\"Die xxxxxxx Day\",\"Live xxx Let Die\",\"You xxxx Live Twice\"]"
      ]
     },
     "metadata": {},
     "output_type": "display_data"
    },
    {
     "data": {
      "text/plain": [
       "((2,3),(4,5))"
      ]
     },
     "metadata": {},
     "output_type": "display_data"
    },
    {
     "data": {
      "text/plain": [
       "(2,(3,[4,5]))"
      ]
     },
     "metadata": {},
     "output_type": "display_data"
    },
    {
     "data": {
      "text/plain": [
       "((True,\"STRAwberries\"),(False,\"Blueberries\"),(True,\"BLACkberries\"))"
      ]
     },
     "metadata": {},
     "output_type": "display_data"
    },
    {
     "data": {
      "text/plain": [
       "(\"Strawberries\",\"Blueberries\",\"Blackberries\")"
      ]
     },
     "metadata": {},
     "output_type": "display_data"
    }
   ],
   "source": [
    "-- simple traversals\n",
    "(\"Jurassic\", \"Park\") & both .~ \"N/A\"\n",
    "(\"Jurassic\", \"Park\") & both . traversed .~ 'x'\n",
    "(\"Malcolm\", [\"Kaylee\", \"Inara\", \"Jayne\"]) & beside id traversed %~ take 3\n",
    "(\"Malcolm\", [\"Kaylee\", \"Inara\", \"Jayne\"]) & _2 . element 1 .~ \"River\"\n",
    "[\"Die Another Day\", \"Live and Let Die\", \"You Only Live Twice\"] & traversed . elementOf worded 1 . traversed .~ 'x'\n",
    "((1, 2), (3, 4)) & both . both +~ 1\n",
    "(1, (2, [3, 4])) & beside id (beside id traversed) +~ 1\n",
    "\n",
    "import Data.Char (toUpper)\n",
    "\n",
    "((True, \"Strawberries\"), (False, \"Blueberries\"), (True, \"Blackberries\")) \n",
    "    & each . filtered ( (== True) . fst) . _2 . taking 4 traversed %~ toUpper\n",
    "    \n",
    "((True, \"Strawberries\"), (False, \"Blueberries\"), (True, \"Blackberries\")) & each %~ snd"
   ]
  },
  {
   "cell_type": "code",
   "execution_count": 77,
   "metadata": {},
   "outputs": [
    {
     "data": {
      "text/plain": [
       "[[('a',1),('c',2)],[('a',1),('d',2)],[('b',1),('c',2)],[('b',1),('d',2)]]"
      ]
     },
     "metadata": {},
     "output_type": "display_data"
    },
    {
     "data": {
      "text/plain": [
       "ZipList {getZipList = [[1,3],[2,4]]}"
      ]
     },
     "metadata": {},
     "output_type": "display_data"
    },
    {
     "data": {
      "text/plain": [
       "ZipList {getZipList = [[('a',1),('b',3)],[('a',2),('b',4)]]}"
      ]
     },
     "metadata": {},
     "output_type": "display_data"
    },
    {
     "data": {
      "text/plain": [
       "(([1,2,3],(4,5)),5)"
      ]
     },
     "metadata": {},
     "output_type": "display_data"
    }
   ],
   "source": [
    "-- traversal actions\n",
    "sequenceAOf (traversed . _1) [(\"ab\", 1), (\"cd\", 2)]\n",
    "\n",
    "sequenceAOf traversed [ZipList [1, 2], ZipList [3, 4]]\n",
    "sequenceAOf (traversed . _2) [('a', ZipList [1,2]), ('b', ZipList [3,4])]\n",
    "\n",
    "import Control.Monad.State\n",
    "\n",
    "let result = traverseOf (beside traversed both)\n",
    "                        (\\n -> modify (+n) >> get) \n",
    "                        ([1, 1, 1], (1, 1))\n",
    "                        \n",
    "runState result 0\n",
    "\n",
    "\n",
    "-- data User = User { \n",
    "--     _name :: String\n",
    "--     , _age :: Int\n",
    "--     } deriving Show \n",
    "-- makeLenses ''User\n",
    "\n",
    "-- data Account = Account { \n",
    "--     _id :: String\n",
    "--     , _user :: User\n",
    "--     } deriving Show\n",
    "-- makeLenses ''Account\n",
    "\n",
    "-- validateAge :: Account -> Either String Account \n",
    "-- validateAge = (user . age) %%~ (\\u -> if (u > 0 && u < 150) then Right u else Left \"Error\" )\n",
    "-- validateAge = _\n",
    "\n",
    "\n"
   ]
  },
  {
   "cell_type": "code",
   "execution_count": 48,
   "metadata": {},
   "outputs": [
    {
     "data": {
      "text/plain": [
       "ZipList {getZipList = [1,2,3]}"
      ]
     },
     "metadata": {},
     "output_type": "display_data"
    }
   ],
   "source": [
    "ZipList [1,2,3]"
   ]
  }
 ],
 "metadata": {
  "kernelspec": {
   "display_name": "Haskell",
   "language": "haskell",
   "name": "haskell"
  },
  "language_info": {
   "codemirror_mode": "ihaskell",
   "file_extension": ".hs",
   "name": "haskell",
   "pygments_lexer": "Haskell",
   "version": "8.6.5"
  }
 },
 "nbformat": 4,
 "nbformat_minor": 4
}
